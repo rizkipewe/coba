BB=70
TB=1.68
BMI=BB/(TB**2)
if BMI<15:
    print ("very severely underweight")
elif 15<=BMI<16:
    print ("severely underweight")
elif 16<=BMI<18.5:
    print ("underweight")
elif 18.5<=BMI<25:
    print ("normal")
elif 25<=BMI<30:
    print ("overweight")
elif 30<=BMI<35:
    print ("moderately obese")
elif 35<=BMI<40:
    print ("severely obese")
else:
    print ("very severely obese")